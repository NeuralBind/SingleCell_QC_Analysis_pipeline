{
 "cells": [
  {
   "cell_type": "code",
   "execution_count": 2,
   "id": "7724054a",
   "metadata": {},
   "outputs": [
    {
     "name": "stdout",
     "output_type": "stream",
     "text": [
      "Collecting scanpy\n",
      "  Using cached scanpy-1.10.1-py3-none-any.whl.metadata (8.6 kB)\n",
      "Collecting anndata>=0.8 (from scanpy)\n",
      "  Using cached anndata-0.10.7-py3-none-any.whl.metadata (6.6 kB)\n",
      "Requirement already satisfied: get-annotations in c:\\users\\thed\\anaconda3\\lib\\site-packages (from scanpy) (0.1.2)\n",
      "Requirement already satisfied: h5py>=3.1 in c:\\users\\thed\\anaconda3\\lib\\site-packages (from scanpy) (3.9.0)\n",
      "Requirement already satisfied: joblib in c:\\users\\thed\\anaconda3\\lib\\site-packages (from scanpy) (1.2.0)\n",
      "Requirement already satisfied: legacy-api-wrap>=1.4 in c:\\users\\thed\\anaconda3\\lib\\site-packages (from scanpy) (1.4)\n",
      "Requirement already satisfied: matplotlib>=3.6 in c:\\users\\thed\\anaconda3\\lib\\site-packages (from scanpy) (3.8.4)\n",
      "Requirement already satisfied: natsort in c:\\users\\thed\\anaconda3\\lib\\site-packages (from scanpy) (8.4.0)\n",
      "Requirement already satisfied: networkx>=2.7 in c:\\users\\thed\\anaconda3\\lib\\site-packages (from scanpy) (3.1)\n",
      "Requirement already satisfied: numba>=0.56 in c:\\users\\thed\\anaconda3\\lib\\site-packages (from scanpy) (0.59.1)\n",
      "Requirement already satisfied: numpy>=1.23 in c:\\users\\thed\\anaconda3\\lib\\site-packages (from scanpy) (1.26.4)\n",
      "Requirement already satisfied: packaging>=21.3 in c:\\users\\thed\\anaconda3\\lib\\site-packages (from scanpy) (23.2)\n",
      "Requirement already satisfied: pandas>=1.5 in c:\\users\\thed\\anaconda3\\lib\\site-packages (from scanpy) (2.2.2)\n",
      "Requirement already satisfied: patsy in c:\\users\\thed\\anaconda3\\lib\\site-packages (from scanpy) (0.5.3)\n",
      "Requirement already satisfied: pynndescent>=0.5 in c:\\users\\thed\\anaconda3\\lib\\site-packages (from scanpy) (0.5.12)\n",
      "Requirement already satisfied: scikit-learn>=0.24 in c:\\users\\thed\\anaconda3\\lib\\site-packages (from scanpy) (1.3.0)\n",
      "Requirement already satisfied: scipy>=1.8 in c:\\users\\thed\\anaconda3\\lib\\site-packages (from scanpy) (1.12.0)\n",
      "Collecting seaborn>=0.13 (from scanpy)\n",
      "  Using cached seaborn-0.13.2-py3-none-any.whl.metadata (5.4 kB)\n",
      "Requirement already satisfied: session-info in c:\\users\\thed\\anaconda3\\lib\\site-packages (from scanpy) (1.0.0)\n",
      "Requirement already satisfied: statsmodels>=0.13 in c:\\users\\thed\\anaconda3\\lib\\site-packages (from scanpy) (0.14.0)\n",
      "Requirement already satisfied: tqdm in c:\\users\\thed\\anaconda3\\lib\\site-packages (from scanpy) (4.65.0)\n",
      "Requirement already satisfied: umap-learn!=0.5.0,>=0.5 in c:\\users\\thed\\anaconda3\\lib\\site-packages (from scanpy) (0.5.6)\n",
      "Requirement already satisfied: array-api-compat!=1.5,>1.4 in c:\\users\\thed\\anaconda3\\lib\\site-packages (from anndata>=0.8->scanpy) (1.6)\n",
      "Requirement already satisfied: exceptiongroup in c:\\users\\thed\\anaconda3\\lib\\site-packages (from anndata>=0.8->scanpy) (1.2.0)\n",
      "Requirement already satisfied: contourpy>=1.0.1 in c:\\users\\thed\\anaconda3\\lib\\site-packages (from matplotlib>=3.6->scanpy) (1.2.0)\n",
      "Requirement already satisfied: cycler>=0.10 in c:\\users\\thed\\anaconda3\\lib\\site-packages (from matplotlib>=3.6->scanpy) (0.11.0)\n",
      "Requirement already satisfied: fonttools>=4.22.0 in c:\\users\\thed\\anaconda3\\lib\\site-packages (from matplotlib>=3.6->scanpy) (4.51.0)\n",
      "Requirement already satisfied: kiwisolver>=1.3.1 in c:\\users\\thed\\anaconda3\\lib\\site-packages (from matplotlib>=3.6->scanpy) (1.4.4)\n",
      "Requirement already satisfied: pillow>=8 in c:\\users\\thed\\anaconda3\\lib\\site-packages (from matplotlib>=3.6->scanpy) (9.5.0)\n",
      "Requirement already satisfied: pyparsing>=2.3.1 in c:\\users\\thed\\anaconda3\\lib\\site-packages (from matplotlib>=3.6->scanpy) (3.0.9)\n",
      "Requirement already satisfied: python-dateutil>=2.7 in c:\\users\\thed\\anaconda3\\lib\\site-packages (from matplotlib>=3.6->scanpy) (2.8.2)\n",
      "Requirement already satisfied: importlib-resources>=3.2.0 in c:\\users\\thed\\anaconda3\\lib\\site-packages (from matplotlib>=3.6->scanpy) (6.1.1)\n",
      "Requirement already satisfied: llvmlite<0.43,>=0.42.0dev0 in c:\\users\\thed\\anaconda3\\lib\\site-packages (from numba>=0.56->scanpy) (0.42.0)\n",
      "Requirement already satisfied: pytz>=2020.1 in c:\\users\\thed\\anaconda3\\lib\\site-packages (from pandas>=1.5->scanpy) (2023.3.post1)\n",
      "Requirement already satisfied: tzdata>=2022.7 in c:\\users\\thed\\anaconda3\\lib\\site-packages (from pandas>=1.5->scanpy) (2024.1)\n",
      "Requirement already satisfied: threadpoolctl>=2.0.0 in c:\\users\\thed\\anaconda3\\lib\\site-packages (from scikit-learn>=0.24->scanpy) (2.2.0)\n",
      "Requirement already satisfied: six in c:\\users\\thed\\anaconda3\\lib\\site-packages (from patsy->scanpy) (1.16.0)\n",
      "Requirement already satisfied: stdlib-list in c:\\users\\thed\\anaconda3\\lib\\site-packages (from session-info->scanpy) (0.10.0)\n",
      "Requirement already satisfied: colorama in c:\\users\\thed\\anaconda3\\lib\\site-packages (from tqdm->scanpy) (0.4.6)\n",
      "Requirement already satisfied: zipp>=3.1.0 in c:\\users\\thed\\anaconda3\\lib\\site-packages (from importlib-resources>=3.2.0->matplotlib>=3.6->scanpy) (3.17.0)\n",
      "Using cached scanpy-1.10.1-py3-none-any.whl (2.1 MB)\n",
      "Using cached anndata-0.10.7-py3-none-any.whl (122 kB)\n",
      "Using cached seaborn-0.13.2-py3-none-any.whl (294 kB)\n",
      "Installing collected packages: seaborn, anndata, scanpy\n",
      "  Attempting uninstall: seaborn\n",
      "    Found existing installation: seaborn 0.12.2\n",
      "    Uninstalling seaborn-0.12.2:\n",
      "      Successfully uninstalled seaborn-0.12.2\n",
      "Successfully installed anndata-0.10.7 scanpy-1.10.1 seaborn-0.13.2\n"
     ]
    },
    {
     "name": "stderr",
     "output_type": "stream",
     "text": [
      "WARNING: Ignoring invalid distribution -andas (c:\\users\\thed\\anaconda3\\lib\\site-packages)\n",
      "WARNING: Ignoring invalid distribution -andas (c:\\users\\thed\\anaconda3\\lib\\site-packages)\n"
     ]
    }
   ],
   "source": [
    "!pip install scanpy"
   ]
  },
  {
   "cell_type": "code",
   "execution_count": 3,
   "id": "50b68df3-abab-468c-be9a-ce1a8605b28b",
   "metadata": {},
   "outputs": [
    {
     "ename": "ModuleNotFoundError",
     "evalue": "No module named 'scvi'",
     "output_type": "error",
     "traceback": [
      "\u001b[1;31m---------------------------------------------------------------------------\u001b[0m",
      "\u001b[1;31mModuleNotFoundError\u001b[0m                       Traceback (most recent call last)",
      "Cell \u001b[1;32mIn[3], line 2\u001b[0m\n\u001b[0;32m      1\u001b[0m \u001b[38;5;28;01mimport\u001b[39;00m \u001b[38;5;21;01mscanpy\u001b[39;00m \u001b[38;5;28;01mas\u001b[39;00m \u001b[38;5;21;01msc\u001b[39;00m\n\u001b[1;32m----> 2\u001b[0m \u001b[38;5;28;01mimport\u001b[39;00m \u001b[38;5;21;01mscvi\u001b[39;00m\n\u001b[0;32m      3\u001b[0m \u001b[38;5;28;01mimport\u001b[39;00m \u001b[38;5;21;01manndata\u001b[39;00m \u001b[38;5;28;01mas\u001b[39;00m \u001b[38;5;21;01mad\u001b[39;00m\n\u001b[0;32m      4\u001b[0m \u001b[38;5;28;01mfrom\u001b[39;00m \u001b[38;5;21;01mscvi\u001b[39;00m\u001b[38;5;21;01m.\u001b[39;00m\u001b[38;5;21;01mmodel\u001b[39;00m\u001b[38;5;21;01m.\u001b[39;00m\u001b[38;5;21;01mutils\u001b[39;00m \u001b[38;5;28;01mimport\u001b[39;00m mde\n",
      "\u001b[1;31mModuleNotFoundError\u001b[0m: No module named 'scvi'"
     ]
    }
   ],
   "source": [
    "import scanpy as sc\n",
    "import scvi\n",
    "import anndata as ad\n",
    "from scvi.model.utils import mde\n",
    "import numpy as np\n",
    "import matplotlib.pyplot as plt\n",
    "import os\n",
    "import seaborn as sns\n",
    "import pandas as pd\n",
    "from scvi.autotune import ModelTuner\n",
    "from ray import tune\n",
    "import ray\n",
    "seed = 9999\n",
    "np.random.seed(seed)"
   ]
  },
  {
   "cell_type": "code",
   "execution_count": 4,
   "id": "55216558",
   "metadata": {},
   "outputs": [
    {
     "name": "stdout",
     "output_type": "stream",
     "text": [
      "^C\n",
      "\n",
      "Note: you may need to restart the kernel to use updated packages.\n"
     ]
    }
   ],
   "source": [
    "conda install scvi-tools -c conda-forge"
   ]
  },
  {
   "cell_type": "code",
   "execution_count": 5,
   "id": "dc85ba72",
   "metadata": {},
   "outputs": [],
   "source": [
    "adata = sc.read('RasV_ingr_scvi.h5ad')"
   ]
  },
  {
   "cell_type": "code",
   "execution_count": 8,
   "id": "e80f690d",
   "metadata": {},
   "outputs": [
    {
     "data": {
      "text/plain": [
       "AxisArrays with keys: X_mde, X_scvi, X_umap, _scvi_extra_continuous_covs"
      ]
     },
     "execution_count": 8,
     "metadata": {},
     "output_type": "execute_result"
    },
    {
     "name": "stdout",
     "output_type": "stream",
     "text": [
      "Channels:\n",
      " - conda-forge\n",
      " - defaults\n",
      "Platform: win-64\n",
      "Collecting package metadata (repodata.json): ...working... done\n",
      "Solving environment: ...working... done\n",
      "\n",
      "## Package Plan ##\n",
      "\n",
      "  environment location: C:\\Users\\Thed\\anaconda3\n",
      "\n",
      "  added / updated specs:\n",
      "    - scvi-tools\n",
      "\n",
      "\n",
      "The following packages will be downloaded:\n",
      "\n",
      "    package                    |            build\n",
      "    ---------------------------|-----------------\n",
      "    anndata-0.10.5.post1       |     pyhd8ed1ab_0          96 KB  conda-forge\n",
      "    clyent-1.2.2               |     pyhd8ed1ab_2          19 KB  conda-forge\n",
      "    conda-23.5.2               |   py39hcbf5309_0        1000 KB  conda-forge\n",
      "    conda-build-3.28.4         |   py39hcbf5309_0         583 KB  conda-forge\n",
      "    conda-libmamba-solver-23.7.0|     pyhd8ed1ab_0          41 KB  conda-forge\n",
      "    conda-repo-cli-1.0.5       |   py39haa95532_0         122 KB\n",
      "    m2w64-gcc-libgfortran-5.3.0|                6         342 KB  conda-forge\n",
      "    m2w64-gcc-libs-5.3.0       |                7         520 KB  conda-forge\n",
      "    m2w64-gcc-libs-core-5.3.0  |                7         214 KB  conda-forge\n",
      "    m2w64-gmp-6.1.0            |                2         726 KB  conda-forge\n",
      "    menuinst-1.4.20            |   py39h99910a6_0          97 KB  conda-forge\n",
      "    openssl-3.3.0              |       hcfcfb64_0         8.0 MB  conda-forge\n",
      "    pathlib-1.0.1              |   py39hcbf5309_7           5 KB  conda-forge\n",
      "    ripgrep-14.1.0             |       h7f3b576_0         1.5 MB  conda-forge\n",
      "    ------------------------------------------------------------\n",
      "                                           Total:        13.2 MB\n",
      "\n",
      "The following NEW packages will be INSTALLED:\n",
      "\n",
      "  absl-py            conda-forge/noarch::absl-py-2.1.0-pyhd8ed1ab_0 \n",
      "  anndata            conda-forge/noarch::anndata-0.10.5.post1-pyhd8ed1ab_0 \n",
      "  array-api-compat   conda-forge/noarch::array-api-compat-1.6-pyhd8ed1ab_0 \n",
      "  clyent             conda-forge/noarch::clyent-1.2.2-pyhd8ed1ab_2 \n",
      "  docrep             conda-forge/noarch::docrep-0.3.2-pyh44b312d_0 \n",
      "  grpcio             pkgs/main/win-64::grpcio-1.48.2-py39hfe90ff0_1 \n",
      "  libuv              conda-forge/win-64::libuv-1.48.0-hcfcfb64_0 \n",
      "  lightning-utiliti~ conda-forge/noarch::lightning-utilities-0.11.2-pyhd8ed1ab_0 \n",
      "  m2w64-gcc-libgfor~ conda-forge/win-64::m2w64-gcc-libgfortran-5.3.0-6 \n",
      "  m2w64-gcc-libs     conda-forge/win-64::m2w64-gcc-libs-5.3.0-7 \n",
      "  m2w64-gcc-libs-co~ conda-forge/win-64::m2w64-gcc-libs-core-5.3.0-7 \n",
      "  m2w64-gmp          conda-forge/win-64::m2w64-gmp-6.1.0-2 \n",
      "  natsort            conda-forge/noarch::natsort-8.4.0-pyhd8ed1ab_0 \n",
      "  ninja              conda-forge/win-64::ninja-1.12.0-h91493d7_0 \n",
      "  opt_einsum         conda-forge/noarch::opt_einsum-3.3.0-pyhc1e730c_2 \n",
      "  pathlib            conda-forge/win-64::pathlib-1.0.1-py39hcbf5309_7 \n",
      "  protobuf           conda-forge/win-64::protobuf-3.20.3-py39hcbf5309_1 \n",
      "  pydeprecate        conda-forge/noarch::pydeprecate-0.3.0-pyhd8ed1ab_0 \n",
      "  pyro-api           conda-forge/noarch::pyro-api-0.1.2-pyhd8ed1ab_0 \n",
      "  pyro-ppl           conda-forge/noarch::pyro-ppl-1.9.0-pyhd8ed1ab_0 \n",
      "  python_abi         conda-forge/win-64::python_abi-3.9-2_cp39 \n",
      "  pytorch            pkgs/main/win-64::pytorch-2.2.0-cpu_py39hb0bdfb8_0 \n",
      "  pytorch-lightning  conda-forge/noarch::pytorch-lightning-1.3.8-pyhd8ed1ab_0 \n",
      "  ripgrep            conda-forge/win-64::ripgrep-14.1.0-h7f3b576_0 \n",
      "  scvi-tools         conda-forge/noarch::scvi-tools-0.14.6-pyhd8ed1ab_0 \n",
      "  tensorboard        conda-forge/noarch::tensorboard-2.16.2-pyhd8ed1ab_0 \n",
      "  tensorboard-data-~ conda-forge/win-64::tensorboard-data-server-0.7.0-py39hcbf5309_1 \n",
      "  torchmetrics       conda-forge/noarch::torchmetrics-1.3.2-pyhd8ed1ab_0 \n",
      "  ucrt               conda-forge/win-64::ucrt-10.0.22621.0-h57928b3_0 \n",
      "  vc14_runtime       conda-forge/win-64::vc14_runtime-14.38.33130-h82b7239_18 \n",
      "\n",
      "The following packages will be UPDATED:\n",
      "\n",
      "  openssl              pkgs/main::openssl-3.0.13-h2bbff1b_0 --> conda-forge::openssl-3.3.0-hcfcfb64_0 \n",
      "  vs2015_runtime     pkgs/main::vs2015_runtime-14.27.29016~ --> conda-forge::vs2015_runtime-14.38.33130-hcb4865c_18 \n",
      "\n",
      "The following packages will be SUPERSEDED by a higher-priority channel:\n",
      "\n",
      "  certifi            pkgs/main/win-64::certifi-2024.2.2-py~ --> conda-forge/noarch::certifi-2024.2.2-pyhd8ed1ab_0 \n",
      "  conda              pkgs/main::conda-24.3.0-py39haa95532_0 --> conda-forge::conda-23.5.2-py39hcbf5309_0 \n",
      "  conda-build        pkgs/main::conda-build-24.3.0-py39haa~ --> conda-forge::conda-build-3.28.4-py39hcbf5309_0 \n",
      "  conda-libmamba-so~ pkgs/main::conda-libmamba-solver-24.1~ --> conda-forge::conda-libmamba-solver-23.7.0-pyhd8ed1ab_0 \n",
      "  menuinst           pkgs/main::menuinst-2.0.2-py39hd77b12~ --> conda-forge::menuinst-1.4.20-py39h99910a6_0 \n",
      "  pyyaml             pkgs/main::pyyaml-6.0.1-py39h2bbff1b_0 --> conda-forge::pyyaml-5.4.1-py39ha55989b_4 \n",
      "  setuptools         pkgs/main::setuptools-68.2.2-py39haa9~ --> conda-forge::setuptools-59.5.0-py39hcbf5309_0 \n",
      "\n",
      "The following packages will be DOWNGRADED:\n",
      "\n",
      "  anaconda-anon-usa~                 0.4.4-py39hfc23b7f_100 --> 0.4.4-py39h8ddfbff_0 \n",
      "  conda-repo-cli                      1.0.88-py39haa95532_0 --> 1.0.5-py39haa95532_0 \n",
      "\n",
      "\n",
      "\n",
      "Downloading and Extracting Packages: ...working... done\n",
      "Preparing transaction: ...working... done\n",
      "Verifying transaction: ...working... done\n",
      "Executing transaction: ...working... \n",
      "done\n"
     ]
    }
   ],
   "source": [
    "adata.obsm"
   ]
  },
  {
   "cell_type": "code",
   "execution_count": 10,
   "id": "53fc4f48",
   "metadata": {},
   "outputs": [],
   "source": [
    "del adata.obsm['_scvi_extra_continuous_covs']\n",
    "del adata.layers['counts']"
   ]
  },
  {
   "cell_type": "code",
   "execution_count": 23,
   "id": "5bdab1d8",
   "metadata": {},
   "outputs": [],
   "source": [
    "adata.write('RasV_ingr_scvi.h5ad')"
   ]
  }
 ],
 "metadata": {
  "kernelspec": {
   "display_name": "Python 3 (ipykernel)",
   "language": "python",
   "name": "python3"
  },
  "language_info": {
   "codemirror_mode": {
    "name": "ipython",
    "version": 3
   },
   "file_extension": ".py",
   "mimetype": "text/x-python",
   "name": "python",
   "nbconvert_exporter": "python",
   "pygments_lexer": "ipython3",
   "version": "3.9.18"
  }
 },
 "nbformat": 4,
 "nbformat_minor": 5
}
